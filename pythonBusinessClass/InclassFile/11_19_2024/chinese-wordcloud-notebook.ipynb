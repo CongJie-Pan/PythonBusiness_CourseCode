{
 "cells": [
  {
   "cell_type": "markdown",
   "metadata": {},
   "source": [
    "# 中文文字雲生成器\n",
    "\n",
    "## 使用 Jupyter Notebook 生成書本形狀的文字雲\n",
    "\n",
    "### 使用步驟：\n",
    "1. 確保已安裝所有必要的套件（jieba, wordcloud, PIL, numpy, matplotlib）\n",
    "2. 準備好文本檔案（Shiji_Introduction_chi.txt）和遮罩圖片（originalBook.png）\n",
    "3. 按順序執行下面的程式碼單元格"
   ]
  },
  {
   "cell_type": "code",
   "execution_count": null,
   "metadata": {},
   "source": [
    "# 安装所需套件（如果尚未安裝）\n",
    "!pip install jieba wordcloud pillow numpy matplotlib"
   ]
  },
  {
   "cell_type": "code",
   "execution_count": null,
   "metadata": {},
   "source": [
    "# 導入必要的函式庫\n",
    "import jieba\n",
    "from wordcloud import WordCloud, STOPWORDS, ImageColorGenerator\n",
    "import matplotlib.pyplot as plt\n",
    "from PIL import Image\n",
    "import numpy as np\n",
    "import os"
   ]
  },
  {
   "cell_type": "markdown",
   "metadata": {},
   "source": [
    "## 設定停用詞和基本參數"
   ]
  },
  {
   "cell_type": "code",
   "execution_count": null,
   "metadata": {},
   "source": [
    "# 設定字體路徑\n",
    "font_path = os.path.join(os.environ['WINDIR'], 'Fonts', 'msjh.ttc')\n",
    "\n",
    "# 擴充的中文停用詞列表\n",
    "chinese_stopwords = set([\n",
    "    # 基本語助詞\n",
    "    '的', '了', '和', '是', '就', '都', '而', '及', '與', '這', '有', '在',\n",
    "    '人', '我', '他', '來', '去', '到', '說', '要', '以', '之', '為', '也',\n",
    "    '所', '又', '行', '道', '出', '入', '中', '其', '不', '可', '她', '那',\n",
    "    '你', '會', '家', '能', '得', '於', '著', '下', '而', '過', '年', '月',\n",
    "    '日', '時', '分', '秒', '把', '給', '讓',\n",
    "    \n",
    "    # 代詞和指示詞\n",
    "    '這個', '那個', '這些', '那些', '他們', '自己', '什麼', '這樣', '那樣',\n",
    "    \n",
    "    # 數量詞和時間詞\n",
    "    '一', '二', '三', '四', '五', '六', '七', '八', '九', '十',\n",
    "    '百', '千', '萬', '億', '個', '多', '少', '今天', '明天', '昨天',\n",
    "    \n",
    "    # 特定於文本的無意義詞\n",
    "    '先生', '因此', '只有', '然而', '大概', '如此', '以來',\n",
    "    '如是', '所以', '便是', '其中', '由於', '至於', '認為',\n",
    "    '不是', '可以', '一個', '一部', '一些', '這些', '那些',\n",
    "    '甚至', '之中', '之後', '之前'\n",
    "])"
   ]
  },
  {
   "cell_type": "markdown",
   "metadata": {},
   "source": [
    "## 讀取和處理文本"
   ]
  },
  {
   "cell_type": "code",
   "execution_count": null,
   "metadata": {},
   "source": [
    "# 讀取文本\n",
    "with open('Shiji_Introduction_chi.txt', 'r', encoding='utf-8') as file:\n",
    "    text = file.read()\n",
    "\n",
    "# 使用結巴分詞並過濾\n",
    "words_list = jieba.cut(text)\n",
    "filtered_words = [word for word in words_list \n",
    "                 if word not in chinese_stopwords \n",
    "                 and len(word) >= 2 \n",
    "                 and not word.isspace()]\n",
    "\n",
    "words = ' '.join(filtered_words)"
   ]
  },
  {
   "cell_type": "markdown",
   "metadata": {},
   "source": [
    "## 處理遮罩圖片"
   ]
  },
  {
   "cell_type": "code",
   "execution_count": null,
   "metadata": {},
   "source": [
    "# 讀取並處理遮罩圖片\n",
    "original_mask = np.array(Image.open(\"originalBook.png\"))\n",
    "\n",
    "# 放大遮罩圖片\n",
    "enlarged_size = (1200, 1200)  # 調整大小\n",
    "mask_image = Image.fromarray(original_mask).resize(enlarged_size, Image.Resampling.LANCZOS)\n",
    "book_mask = np.array(mask_image)\n",
    "\n",
    "# 確保遮罩是二值的\n",
    "if len(book_mask.shape) > 2:\n",
    "    book_mask = book_mask.mean(axis=2)\n",
    "thresh = book_mask.max() / 2\n",
    "book_mask = (book_mask > thresh) * 255\n",
    "\n",
    "# 顯示遮罩圖片\n",
    "plt.figure(figsize=(10, 10))\n",
    "plt.imshow(book_mask, cmap='gray')\n",
    "plt.axis('off')\n",
    "plt.title('遮罩圖片預覽')\n",
    "plt.show()"
   ]
  },
  {
   "cell_type": "markdown",
   "metadata": {},
   "source": [
    "## 生成文字雲"
   ]
  },
  {
   "cell_type": "code",
   "execution_count": null,
   "metadata": {},
   "source": [
    "# 自定義顏色函數 - 使用深藍色系\n",
    "def custom_color_func(word=None, font_size=None, position=None, orientation=None, font_path=None, random_state=None):\n",
    "    return f\"hsl(220, 100%, {random_state.randint(15, 35)}%)\"\n",
    "\n",
    "# 生成文字雲\n",
    "wordcloud_masked = WordCloud(\n",
    "    font_path=font_path,\n",
    "    mask=book_mask,\n",
    "    background_color='white',\n",
    "    max_words=60,           # 增加詞數\n",
    "    max_font_size=120,      # 增加最大字體\n",
    "    min_font_size=25,       # 調整最小字體\n",
    "    prefer_horizontal=0.7,\n",
    "    relative_scaling=0.4,   # 適當的相對縮放\n",
    "    repeat=True,\n",
    "    random_state=42,\n",
    "    color_func=custom_color_func,\n",
    "    contour_width=3,       # 加粗輪廓\n",
    "    contour_color='black',\n",
    "    collocations=False,\n",
    "    margin=1               # 小邊距使文字更緊密\n",
    ").generate(words)\n",
    "\n",
    "# 創建更大的圖形並顯示\n",
    "plt.figure(figsize=(15, 15))\n",
    "plt.imshow(wordcloud_masked, interpolation='bilinear')\n",
    "plt.axis(\"off\")\n",
    "plt.title('最終文字雲結果')\n",
    "plt.show()\n",
    "\n",
    "# 保存高解析度圖片\n",
    "wordcloud_masked.to_file(\"book_wordcloud_final.png\")"
   ]
  },
  {
   "cell_type": "markdown",
   "metadata": {},
   "source": [
    "## 詞頻統計分析"
   ]
  },
  {
   "cell_type": "code",
   "execution_count": null,
   "metadata": {},
   "source": [
    "# 計算並顯示詞頻\n",
    "word_freq = {}\n",
    "for word in filtered_words:\n",
    "    if len(word) >= 2:\n",
    "        word_freq[word] = word_freq.get(word, 0) + 1\n",
    "\n",
    "print(\"\\n最常出現的詞(Top 20):\")\n",
    "sorted_words = sorted(word_freq.items(), key=lambda x: x[1], reverse=True)[:20]\n",
    "for word, freq in sorted_words:\n",
    "    print(f\"{word}: {freq}\")\n",
    "\n",
    "# 繪製詞頻條形圖\n",
    "plt.figure(figsize=(15, 8))\n",
    "words, freqs = zip(*sorted_words)\n",
    "plt.bar(words, freqs)\n",
    "plt.xticks(rotation=45, ha='right')\n",
    "plt.title('Top 20 詞頻分布')\n",
    "plt.xlabel('詞語')\n",
    "plt.ylabel('出現次數')\n",
    "plt.tight_layout()\n",
    "plt.show()"
   ]
  }
 ],
 "metadata": {
  "kernelspec": {
   "display_name": "Python 3",
   "language": "python",
   "name": "python3"
  },
  "language_info": {
   "codemirror_mode": {
    "name": "ipython",
    "version": 3
   },
   "file_extension": ".py",
   "mimetype": "text/x-python",
   "name": "python",
   "nbconvert_exporter": "python",
   "pygments_lexer": "ipython3",
   "version": "3.8.0"
  }
 },
 "nbformat": 4,
 "nbformat_minor": 4
}